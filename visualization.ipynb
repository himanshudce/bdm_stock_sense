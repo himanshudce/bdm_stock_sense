{
 "cells": [
  {
   "cell_type": "code",
   "execution_count": 10,
   "metadata": {},
   "outputs": [],
   "source": [
    "# import libraries\n",
    "import pymongo\n",
    "import pandas as pd\n",
    "import os\n",
    "import json\n",
    "import time\n",
    "\n",
    "from IPython.display import display, HTML\n",
    "# from ipywidgets import widgets\n",
    "\n",
    "\n",
    "from pyspark.sql import SparkSession\n",
    "import pandas as pd\n",
    "import os "
   ]
  },
  {
   "cell_type": "code",
   "execution_count": 11,
   "metadata": {},
   "outputs": [],
   "source": [
    "# to connect from VM system\n",
    "mongo_client = pymongo.MongoClient(\"mongodb://localhost:27017/\")"
   ]
  },
  {
   "cell_type": "code",
   "execution_count": 12,
   "metadata": {},
   "outputs": [
    {
     "name": "stderr",
     "output_type": "stream",
     "text": [
      "/home/bdm/.local/lib/python3.6/site-packages/pyspark/context.py:238: FutureWarning: Python 3.6 support is deprecated in Spark 3.2.\n",
      "  FutureWarning\n"
     ]
    }
   ],
   "source": [
    "#path from where we will read files for one hour \n",
    "path = '/home/bdm/data_sources/stock_data_parquet/'\n",
    "appName = \"stock parquet files\"\n",
    "spark = SparkSession.builder.appName(appName).getOrCreate()"
   ]
  },
  {
   "cell_type": "code",
   "execution_count": 15,
   "metadata": {},
   "outputs": [],
   "source": [
    "# define Database\n",
    "tweetdb = mongo_client[\"sense_stock_db\"]['tweet_data']"
   ]
  },
  {
   "cell_type": "code",
   "execution_count": 21,
   "metadata": {},
   "outputs": [
    {
     "name": "stdout",
     "output_type": "stream",
     "text": [
      "Extracted data\n"
     ]
    },
    {
     "data": {
      "text/html": [
       "<table border=\"1\" class=\"dataframe\">\n",
       "  <thead>\n",
       "    <tr style=\"text-align: right;\">\n",
       "      <th></th>\n",
       "      <th>polarity</th>\n",
       "      <th>timestamp</th>\n",
       "      <th>sentiment</th>\n",
       "      <th>text</th>\n",
       "      <th>support_count</th>\n",
       "    </tr>\n",
       "  </thead>\n",
       "  <tbody>\n",
       "    <tr>\n",
       "      <th>0</th>\n",
       "      <td>0.0</td>\n",
       "      <td>2022-06-03 16:26:59.547</td>\n",
       "      <td>Neutral</td>\n",
       "      <td>@drbillgibson Over reliance on antibiotics in these cases. Just encouraging resistance. Topical oestrogen is the way to go.</td>\n",
       "      <td>0</td>\n",
       "    </tr>\n",
       "  </tbody>\n",
       "</table>"
      ],
      "text/plain": [
       "<IPython.core.display.HTML object>"
      ]
     },
     "metadata": {},
     "output_type": "display_data"
    }
   ],
   "source": [
    "# get todays date according to indian timezone\n",
    "# keeping buffer time to give time for processing (2 minutes)\n",
    "buffer_minutes = 2\n",
    "IN_time = pd.Timestamp.now('Asia/Kolkata')-pd.Timedelta(minutes=2)\n",
    "\n",
    "date = str(IN_time.date()).replace(\"-\",\"_\")\n",
    "date = \"2022_06_03\"\n",
    "\n",
    "hour = int(IN_time.hour)\n",
    "hour = 21\n",
    "\n",
    "minute = int(IN_time.minute)\n",
    "minute = 56\n",
    "\n",
    "\n",
    "\n",
    "# run query to extract result\n",
    "myquery = { \"date\": date , \"companies\":company, \"hour\":hour, \"minute\":minute}\n",
    "mydoc = tweetdb.find(myquery)\n",
    "for x in mydoc:\n",
    "    print(\"Extracted data\")\n",
    "    df = pd.DataFrame(x['top_N_tweets'])\n",
    "    display(HTML(df.to_html()))"
   ]
  },
  {
   "cell_type": "code",
   "execution_count": null,
   "metadata": {},
   "outputs": [],
   "source": []
  },
  {
   "cell_type": "code",
   "execution_count": null,
   "metadata": {},
   "outputs": [],
   "source": []
  },
  {
   "cell_type": "code",
   "execution_count": null,
   "metadata": {},
   "outputs": [],
   "source": []
  },
  {
   "cell_type": "code",
   "execution_count": 22,
   "metadata": {},
   "outputs": [],
   "source": [
    "# define company\n",
    "company = \"RELIANCE\""
   ]
  },
  {
   "cell_type": "code",
   "execution_count": 23,
   "metadata": {},
   "outputs": [],
   "source": [
    "def get_time():\n",
    "    # get todays date according to indian timezone\n",
    "    IN_time = pd.Timestamp.now('Asia/Kolkata')-pd.Timedelta(minutes=10)\n",
    "\n",
    "    date = str(IN_time.date()).replace(\"-\",\"_\")\n",
    "    #date = \"2022_06_03\"\n",
    "\n",
    "    hour = int(IN_time.hour)\n",
    "    #hour = 21\n",
    "\n",
    "    minute = int(IN_time.minute)\n",
    "\n",
    "    return date,hour,minute"
   ]
  },
  {
   "cell_type": "code",
   "execution_count": 47,
   "metadata": {},
   "outputs": [],
   "source": [
    "def display_tweets(date,hour,minute,company=\"RELIENCE\"):\n",
    "    # run query to extract result\n",
    "    myquery = { \"date\": date , \"companies\":company, \"hour\":hour, \"minute\":minute}\n",
    "    mydoc = tweetdb.find(myquery)\n",
    "    for x in mydoc:\n",
    "        print(\"Extracted data\")\n",
    "        df = pd.DataFrame(x['top_N_tweets'])\n",
    "    display(HTML(df.to_html()))"
   ]
  },
  {
   "cell_type": "code",
   "execution_count": 48,
   "metadata": {},
   "outputs": [],
   "source": [
    "def display_stocks(date,hour,minute,company=\"RELIENCE\"):\n",
    "    date_ = os.path.join(path,date)\n",
    "    parquet_name = 'stock_data'+'_'+str(hour)+'_'+str(minute)+'.parquet'\n",
    "    file_name = os.path.join(date_,parquet_name)\n",
    "    print(file_name)\n",
    "    df1 = spark.read.parquet(file_name)\n",
    "    df2 = df1.select('symbol','lastPrice','dayHigh','dayLow','closePrice','open')\n",
    "    pd_df = df2.toPandas()\n",
    "    df_cmp = pd_df[pd_df['symbol']==company]\n",
    "    print(df_cmp)\n",
    "    # display(HTML(df_cmp.to_html()))"
   ]
  },
  {
   "cell_type": "code",
   "execution_count": 54,
   "metadata": {},
   "outputs": [
    {
     "name": "stdout",
     "output_type": "stream",
     "text": [
      "2022_06_05 22 22 RELIENCE\n"
     ]
    },
    {
     "data": {
      "text/html": [
       "<table border=\"1\" class=\"dataframe\">\n",
       "  <thead>\n",
       "    <tr style=\"text-align: right;\">\n",
       "      <th></th>\n",
       "      <th>polarity</th>\n",
       "      <th>timestamp</th>\n",
       "      <th>sentiment</th>\n",
       "      <th>text</th>\n",
       "      <th>support_count</th>\n",
       "    </tr>\n",
       "  </thead>\n",
       "  <tbody>\n",
       "    <tr>\n",
       "      <th>0</th>\n",
       "      <td>0.0</td>\n",
       "      <td>2022-06-05 16:52:51.513</td>\n",
       "      <td>Neutral</td>\n",
       "      <td>RT @narendramodi: 130 crore Indians have decided that they will make India Aatmanirbhar. Our push for self-reliance is driven by a vision o…</td>\n",
       "      <td>0</td>\n",
       "    </tr>\n",
       "    <tr>\n",
       "      <th>1</th>\n",
       "      <td>-0.5</td>\n",
       "      <td>2022-06-05 16:52:56.168</td>\n",
       "      <td>Negative</td>\n",
       "      <td>RT @Ranal55: If you are not relying on God, you are relying on the wrong things.\\n\\n#quote #quotesmith55 #God #reliance #SundaySpirit https:/…</td>\n",
       "      <td>0</td>\n",
       "    </tr>\n",
       "  </tbody>\n",
       "</table>"
      ],
      "text/plain": [
       "<IPython.core.display.HTML object>"
      ]
     },
     "metadata": {},
     "output_type": "display_data"
    },
    {
     "name": "stdout",
     "output_type": "stream",
     "text": [
      "/home/bdm/data_sources/stock_data_parquet/2022_06_05/stock_data_22_22.parquet\n"
     ]
    },
    {
     "data": {
      "text/html": [
       "<table border=\"1\" class=\"dataframe\">\n",
       "  <thead>\n",
       "    <tr style=\"text-align: right;\">\n",
       "      <th></th>\n",
       "      <th>symbol</th>\n",
       "      <th>lastPrice</th>\n",
       "      <th>dayHigh</th>\n",
       "      <th>dayLow</th>\n",
       "      <th>closePrice</th>\n",
       "      <th>open</th>\n",
       "    </tr>\n",
       "  </thead>\n",
       "  <tbody>\n",
       "    <tr>\n",
       "      <th>0</th>\n",
       "      <td>RELIANCE</td>\n",
       "      <td>2778.0</td>\n",
       "      <td>2817.35</td>\n",
       "      <td>2742.0</td>\n",
       "      <td>2779.5</td>\n",
       "      <td>2744.0</td>\n",
       "    </tr>\n",
       "  </tbody>\n",
       "</table>"
      ],
      "text/plain": [
       "<IPython.core.display.HTML object>"
      ]
     },
     "metadata": {},
     "output_type": "display_data"
    },
    {
     "name": "stdout",
     "output_type": "stream",
     "text": [
      "2022_06_05 22 23 RELIENCE\n"
     ]
    },
    {
     "data": {
      "text/html": [
       "<table border=\"1\" class=\"dataframe\">\n",
       "  <thead>\n",
       "    <tr style=\"text-align: right;\">\n",
       "      <th></th>\n",
       "      <th>polarity</th>\n",
       "      <th>timestamp</th>\n",
       "      <th>sentiment</th>\n",
       "      <th>text</th>\n",
       "      <th>support_count</th>\n",
       "    </tr>\n",
       "  </thead>\n",
       "  <tbody>\n",
       "    <tr>\n",
       "      <th>0</th>\n",
       "      <td>0.5</td>\n",
       "      <td>2022-06-05 16:53:01.704</td>\n",
       "      <td>Positive</td>\n",
       "      <td>RT @gods_txt: Patience is the trait of mothers. Love is the trait of fathers. Reliance is the trait of slaves. Authority is the trait of ki…</td>\n",
       "      <td>0</td>\n",
       "    </tr>\n",
       "    <tr>\n",
       "      <th>1</th>\n",
       "      <td>0.2</td>\n",
       "      <td>2022-06-05 16:53:06.219</td>\n",
       "      <td>Positive</td>\n",
       "      <td>RT @bowker_john: Strategic voting: because of its reliance on astonishingly inaccurate riding-by-riding projection models (curiously, mostl…</td>\n",
       "      <td>0</td>\n",
       "    </tr>\n",
       "    <tr>\n",
       "      <th>2</th>\n",
       "      <td>0.0</td>\n",
       "      <td>2022-06-05 16:53:40.826</td>\n",
       "      <td>Neutral</td>\n",
       "      <td>@themukulagrawal Reliance</td>\n",
       "      <td>0</td>\n",
       "    </tr>\n",
       "    <tr>\n",
       "      <th>3</th>\n",
       "      <td>0.0</td>\n",
       "      <td>2022-06-05 16:53:55.688</td>\n",
       "      <td>Neutral</td>\n",
       "      <td>@mohitbharatiya_ @myogiadityanath Jai Ho bharath that was India Dharma self reliance culture traditions customs</td>\n",
       "      <td>0</td>\n",
       "    </tr>\n",
       "  </tbody>\n",
       "</table>"
      ],
      "text/plain": [
       "<IPython.core.display.HTML object>"
      ]
     },
     "metadata": {},
     "output_type": "display_data"
    },
    {
     "name": "stdout",
     "output_type": "stream",
     "text": [
      "/home/bdm/data_sources/stock_data_parquet/2022_06_05/stock_data_22_23.parquet\n"
     ]
    },
    {
     "data": {
      "text/html": [
       "<table border=\"1\" class=\"dataframe\">\n",
       "  <thead>\n",
       "    <tr style=\"text-align: right;\">\n",
       "      <th></th>\n",
       "      <th>symbol</th>\n",
       "      <th>lastPrice</th>\n",
       "      <th>dayHigh</th>\n",
       "      <th>dayLow</th>\n",
       "      <th>closePrice</th>\n",
       "      <th>open</th>\n",
       "    </tr>\n",
       "  </thead>\n",
       "  <tbody>\n",
       "    <tr>\n",
       "      <th>0</th>\n",
       "      <td>RELIANCE</td>\n",
       "      <td>2778.0</td>\n",
       "      <td>2817.35</td>\n",
       "      <td>2742.0</td>\n",
       "      <td>2779.5</td>\n",
       "      <td>2744.0</td>\n",
       "    </tr>\n",
       "  </tbody>\n",
       "</table>"
      ],
      "text/plain": [
       "<IPython.core.display.HTML object>"
      ]
     },
     "metadata": {},
     "output_type": "display_data"
    },
    {
     "name": "stdout",
     "output_type": "stream",
     "text": [
      "2022_06_05 22 24 RELIENCE\n"
     ]
    },
    {
     "data": {
      "text/html": [
       "<table border=\"1\" class=\"dataframe\">\n",
       "  <thead>\n",
       "    <tr style=\"text-align: right;\">\n",
       "      <th></th>\n",
       "      <th>polarity</th>\n",
       "      <th>timestamp</th>\n",
       "      <th>sentiment</th>\n",
       "      <th>text</th>\n",
       "      <th>support_count</th>\n",
       "    </tr>\n",
       "  </thead>\n",
       "  <tbody>\n",
       "    <tr>\n",
       "      <th>0</th>\n",
       "      <td>0.5</td>\n",
       "      <td>2022-06-05 16:53:01.704</td>\n",
       "      <td>Positive</td>\n",
       "      <td>RT @gods_txt: Patience is the trait of mothers. Love is the trait of fathers. Reliance is the trait of slaves. Authority is the trait of ki…</td>\n",
       "      <td>0</td>\n",
       "    </tr>\n",
       "    <tr>\n",
       "      <th>1</th>\n",
       "      <td>0.2</td>\n",
       "      <td>2022-06-05 16:53:06.219</td>\n",
       "      <td>Positive</td>\n",
       "      <td>RT @bowker_john: Strategic voting: because of its reliance on astonishingly inaccurate riding-by-riding projection models (curiously, mostl…</td>\n",
       "      <td>0</td>\n",
       "    </tr>\n",
       "    <tr>\n",
       "      <th>2</th>\n",
       "      <td>0.0</td>\n",
       "      <td>2022-06-05 16:53:40.826</td>\n",
       "      <td>Neutral</td>\n",
       "      <td>@themukulagrawal Reliance</td>\n",
       "      <td>0</td>\n",
       "    </tr>\n",
       "    <tr>\n",
       "      <th>3</th>\n",
       "      <td>0.0</td>\n",
       "      <td>2022-06-05 16:53:55.688</td>\n",
       "      <td>Neutral</td>\n",
       "      <td>@mohitbharatiya_ @myogiadityanath Jai Ho bharath that was India Dharma self reliance culture traditions customs</td>\n",
       "      <td>0</td>\n",
       "    </tr>\n",
       "  </tbody>\n",
       "</table>"
      ],
      "text/plain": [
       "<IPython.core.display.HTML object>"
      ]
     },
     "metadata": {},
     "output_type": "display_data"
    },
    {
     "name": "stdout",
     "output_type": "stream",
     "text": [
      "/home/bdm/data_sources/stock_data_parquet/2022_06_05/stock_data_22_24.parquet\n"
     ]
    },
    {
     "data": {
      "text/html": [
       "<table border=\"1\" class=\"dataframe\">\n",
       "  <thead>\n",
       "    <tr style=\"text-align: right;\">\n",
       "      <th></th>\n",
       "      <th>symbol</th>\n",
       "      <th>lastPrice</th>\n",
       "      <th>dayHigh</th>\n",
       "      <th>dayLow</th>\n",
       "      <th>closePrice</th>\n",
       "      <th>open</th>\n",
       "    </tr>\n",
       "  </thead>\n",
       "  <tbody>\n",
       "    <tr>\n",
       "      <th>0</th>\n",
       "      <td>RELIANCE</td>\n",
       "      <td>2778.0</td>\n",
       "      <td>2817.35</td>\n",
       "      <td>2742.0</td>\n",
       "      <td>2779.5</td>\n",
       "      <td>2744.0</td>\n",
       "    </tr>\n",
       "  </tbody>\n",
       "</table>"
      ],
      "text/plain": [
       "<IPython.core.display.HTML object>"
      ]
     },
     "metadata": {},
     "output_type": "display_data"
    },
    {
     "name": "stdout",
     "output_type": "stream",
     "text": [
      "2022_06_05 22 25 RELIENCE\n"
     ]
    },
    {
     "data": {
      "text/html": [
       "<table border=\"1\" class=\"dataframe\">\n",
       "  <thead>\n",
       "    <tr style=\"text-align: right;\">\n",
       "      <th></th>\n",
       "      <th>polarity</th>\n",
       "      <th>timestamp</th>\n",
       "      <th>sentiment</th>\n",
       "      <th>text</th>\n",
       "      <th>support_count</th>\n",
       "    </tr>\n",
       "  </thead>\n",
       "  <tbody>\n",
       "    <tr>\n",
       "      <th>0</th>\n",
       "      <td>0.5</td>\n",
       "      <td>2022-06-05 16:55:30.087</td>\n",
       "      <td>Positive</td>\n",
       "      <td>RT @gods_txt: Patience is the trait of mothers. Love is the trait of fathers. Reliance is the trait of slaves. Authority is the trait of ki…</td>\n",
       "      <td>0</td>\n",
       "    </tr>\n",
       "    <tr>\n",
       "      <th>1</th>\n",
       "      <td>0.0</td>\n",
       "      <td>2022-06-05 16:55:09.473</td>\n",
       "      <td>Neutral</td>\n",
       "      <td>@ZestMoneyCares @ZestMoney  Dear team i have purchased mobile phones from reliance digital. monthly emi is 12350 pe… https://t.co/jbnoQN4Q00</td>\n",
       "      <td>0</td>\n",
       "    </tr>\n",
       "    <tr>\n",
       "      <th>2</th>\n",
       "      <td>-0.38035715</td>\n",
       "      <td>2022-06-05 16:55:34.929</td>\n",
       "      <td>Negative</td>\n",
       "      <td>@RelianceDigital \\nCity: Pilibangan ; District: Hanumangarh; Rajasthan\\nI am very disappointed from reliance smart Pi… https://t.co/nvUMlCMrIy</td>\n",
       "      <td>0</td>\n",
       "    </tr>\n",
       "  </tbody>\n",
       "</table>"
      ],
      "text/plain": [
       "<IPython.core.display.HTML object>"
      ]
     },
     "metadata": {},
     "output_type": "display_data"
    },
    {
     "name": "stdout",
     "output_type": "stream",
     "text": [
      "/home/bdm/data_sources/stock_data_parquet/2022_06_05/stock_data_22_25.parquet\n"
     ]
    },
    {
     "data": {
      "text/html": [
       "<table border=\"1\" class=\"dataframe\">\n",
       "  <thead>\n",
       "    <tr style=\"text-align: right;\">\n",
       "      <th></th>\n",
       "      <th>symbol</th>\n",
       "      <th>lastPrice</th>\n",
       "      <th>dayHigh</th>\n",
       "      <th>dayLow</th>\n",
       "      <th>closePrice</th>\n",
       "      <th>open</th>\n",
       "    </tr>\n",
       "  </thead>\n",
       "  <tbody>\n",
       "    <tr>\n",
       "      <th>0</th>\n",
       "      <td>RELIANCE</td>\n",
       "      <td>2778.0</td>\n",
       "      <td>2817.35</td>\n",
       "      <td>2742.0</td>\n",
       "      <td>2779.5</td>\n",
       "      <td>2744.0</td>\n",
       "    </tr>\n",
       "  </tbody>\n",
       "</table>"
      ],
      "text/plain": [
       "<IPython.core.display.HTML object>"
      ]
     },
     "metadata": {},
     "output_type": "display_data"
    }
   ],
   "source": [
    "# display top tweets for entered company each minute\n",
    "while(True):\n",
    "    \n",
    "    date,hour,minute = get_time()\n",
    "    # comp = input(\"Enter company name\")\n",
    "    comp = \"RELIENCE\"\n",
    "    \n",
    "    print(\"Top tweets for date - {} hour {} and minute {} for company {}\".format(date,hour,minute, comp))\n",
    "\n",
    "    # run query to diplay tweets\n",
    "    try:\n",
    "        myquery = { \"date\": date , \"companies\":company, \"hour\":hour, \"minute\":minute}\n",
    "        mydoc = tweetdb.find(myquery)\n",
    "        for x in mydoc:\n",
    "            df = pd.DataFrame(x['top_N_tweets'])\n",
    "        display(HTML(df.to_html()))\n",
    "    except:\n",
    "        print(\"no tweet for this minute\")\n",
    "        \n",
    "    \n",
    "    \n",
    "    # run query to diplay stocks\n",
    "    date_ = os.path.join(path,date)\n",
    "    parquet_name = 'stock_data'+'_'+str(hour)+'_'+str(minute)+'.parquet'\n",
    "    file_name = os.path.join(date_,parquet_name)\n",
    "    df1 = spark.read.parquet(file_name)\n",
    "    df2 = df1.select('symbol','lastPrice','dayHigh','dayLow','closePrice','open')\n",
    "    pd_df = df2.toPandas()\n",
    "    df_cmp = pd_df[pd_df['symbol']==company]\n",
    "    display(HTML(df_cmp.to_html()))\n",
    "    \n",
    "    # sleep for around 1 minute\n",
    "    time.sleep(60)"
   ]
  },
  {
   "cell_type": "code",
   "execution_count": 50,
   "metadata": {},
   "outputs": [
    {
     "name": "stdout",
     "output_type": "stream",
     "text": [
      "2022_06_05 22 17 RELIENCE\n",
      "No tweets in this minute\n",
      "/home/bdm/data_sources/stock_data_parquet/2022_06_05/stock_data_22_17.parquet\n",
      "Empty DataFrame\n",
      "Columns: [symbol, lastPrice, dayHigh, dayLow, closePrice, open]\n",
      "Index: []\n"
     ]
    }
   ],
   "source": [
    "# display top tweets for entered company each minute\n",
    "while(True):\n",
    "    \n",
    "    date,hour,minute = get_time()\n",
    "    # comp = input(\"Enter company name\")\n",
    "    comp = \"RELIENCE\"\n",
    "    \n",
    "    \n",
    "    print(date,hour,minute, comp)\n",
    "\n",
    "    # run query to diplay tweets\n",
    "    try:\n",
    "        display_tweets(date,hour,minute,comp)\n",
    "    except:\n",
    "        print(\"No tweets in this minute\")\n",
    "    \n",
    "    # run query to diplay stocks\n",
    "    display_stocks(date,hour,minute,comp)\n",
    "    \n",
    "    # sleep for around 1 minute\n",
    "    # time.sleep(60)\n",
    "    break"
   ]
  },
  {
   "cell_type": "code",
   "execution_count": 2,
   "metadata": {},
   "outputs": [
    {
     "name": "stderr",
     "output_type": "stream",
     "text": [
      "/home/bdm/.local/lib/python3.6/site-packages/pyspark/context.py:238: FutureWarning: Python 3.6 support is deprecated in Spark 3.2.\n",
      "  FutureWarning\n"
     ]
    }
   ],
   "source": []
  },
  {
   "cell_type": "code",
   "execution_count": 51,
   "metadata": {},
   "outputs": [
    {
     "name": "stdout",
     "output_type": "stream",
     "text": [
      "/home/bdm/data_sources/stock_data_parquet/2022_06_05/stock_data_22_18.parquet\n"
     ]
    },
    {
     "data": {
      "text/html": [
       "<table border=\"1\" class=\"dataframe\">\n",
       "  <thead>\n",
       "    <tr style=\"text-align: right;\">\n",
       "      <th></th>\n",
       "      <th>symbol</th>\n",
       "      <th>lastPrice</th>\n",
       "      <th>dayHigh</th>\n",
       "      <th>dayLow</th>\n",
       "      <th>closePrice</th>\n",
       "      <th>open</th>\n",
       "    </tr>\n",
       "  </thead>\n",
       "  <tbody>\n",
       "    <tr>\n",
       "      <th>0</th>\n",
       "      <td>RELIANCE</td>\n",
       "      <td>2778.0</td>\n",
       "      <td>2817.35</td>\n",
       "      <td>2742.0</td>\n",
       "      <td>2779.5</td>\n",
       "      <td>2744.0</td>\n",
       "    </tr>\n",
       "  </tbody>\n",
       "</table>"
      ],
      "text/plain": [
       "<IPython.core.display.HTML object>"
      ]
     },
     "metadata": {},
     "output_type": "display_data"
    }
   ],
   "source": [
    "while(True):\n",
    "    date,hour,min = get_time()\n",
    "    date_ = os.path.join(path,date)\n",
    "    parquet_name = 'stock_data'+'_'+str(hour)+'_'+str(min)+'.parquet'\n",
    "    file_name = os.path.join(date_,parquet_name)\n",
    "    print(file_name)\n",
    "    df1 = spark.read.parquet(file_name)\n",
    "    df2 = df1.select('symbol','lastPrice','dayHigh','dayLow','closePrice','open')\n",
    "    # df2.show()\n",
    "    pd_df = df2.toPandas()\n",
    "    df_cmp = pd_df[pd_df['symbol']==company]\n",
    "    display(HTML(df_cmp.to_html()))\n",
    "    \n",
    "    \n",
    "    break\n",
    "#/home/bdm/data_sources/stock_data_parquet/2022_06_05/stock_data2022_06_05_21_32.parquet"
   ]
  },
  {
   "cell_type": "markdown",
   "metadata": {},
   "source": [
    "# USING WIDGETS IF POSSIBLE"
   ]
  },
  {
   "cell_type": "code",
   "execution_count": 33,
   "metadata": {},
   "outputs": [
    {
     "data": {
      "text/html": [
       "<table border=\"1\" class=\"dataframe\">\n",
       "  <thead>\n",
       "    <tr style=\"text-align: right;\">\n",
       "      <th></th>\n",
       "      <th>polarity</th>\n",
       "      <th>timestamp</th>\n",
       "      <th>sentiment</th>\n",
       "      <th>text</th>\n",
       "      <th>support_count</th>\n",
       "    </tr>\n",
       "  </thead>\n",
       "  <tbody>\n",
       "    <tr>\n",
       "      <th>0</th>\n",
       "      <td>0.0</td>\n",
       "      <td>2022-06-03 16:26:59.547</td>\n",
       "      <td>Neutral</td>\n",
       "      <td>@drbillgibson Over reliance on antibiotics in these cases. Just encouraging resistance. Topical oestrogen is the way to go.</td>\n",
       "      <td>0</td>\n",
       "    </tr>\n",
       "  </tbody>\n",
       "</table>"
      ],
      "text/plain": [
       "<IPython.core.display.HTML object>"
      ]
     },
     "metadata": {},
     "output_type": "display_data"
    }
   ],
   "source": [
    "display(HTML(df.to_html()))"
   ]
  },
  {
   "cell_type": "code",
   "execution_count": 31,
   "metadata": {},
   "outputs": [
    {
     "data": {
      "application/vnd.jupyter.widget-view+json": {
       "model_id": "29717281a4424327b2bc30572c1e49d2",
       "version_major": 2,
       "version_minor": 0
      },
      "text/plain": [
       "Text(value='', description='Enter Company')"
      ]
     },
     "metadata": {},
     "output_type": "display_data"
    }
   ],
   "source": [
    "text = widgets.Text(description=\"Enter Company\")\n",
    "display(text)\n",
    "\n",
    "# def process_results(sender):\n",
    "#     comp = text.value\n",
    "#     myquery = { \"date\": date , \"companies\":comp, \"hour\":hour, \"minute\":minute}\n",
    "#     mydoc = tweetdb.find(myquery)\n",
    "#     for x in mydoc:\n",
    "#         df = pd.DataFrame(x['top_N_tweets'])\n",
    "#         display(HTML(df.to_html()))\n",
    "\n",
    "\n",
    "# text.on_submit(process_results)"
   ]
  },
  {
   "cell_type": "code",
   "execution_count": 13,
   "metadata": {},
   "outputs": [],
   "source": [
    "# # get todays date according to indian timezone\n",
    "# # keeping buffer time to give time for processing (2 minutes)\n",
    "# buffer_minutes = 2\n",
    "# IN_time = pd.Timestamp.now('Asia/Kolkata')-pd.Timedelta(minutes=2)\n",
    "\n",
    "# date = str(IN_time.date()).replace(\"-\",\"_\")\n",
    "# date = \"2022_06_03\"\n",
    "\n",
    "# hour = int(IN_time.hour)\n",
    "# hour = 21\n",
    "\n",
    "# minute = int(IN_time.minute)\n",
    "# minute = 56\n",
    "\n",
    "\n",
    "\n",
    "# # run query to extract result\n",
    "# myquery = { \"date\": date , \"companies\":company, \"hour\":hour, \"minute\":minute}\n",
    "# mydoc = tweetdb.find(myquery)\n",
    "# for x in mydoc:\n",
    "#     print(\"Extracted data\")\n",
    "#     df = pd.DataFrame(x['top_N_tweets'])\n",
    "#     display(HTML(df.to_html()))"
   ]
  },
  {
   "cell_type": "code",
   "execution_count": null,
   "metadata": {},
   "outputs": [],
   "source": []
  }
 ],
 "metadata": {
  "interpreter": {
   "hash": "31f2aee4e71d21fbe5cf8b01ff0e069b9275f58929596ceb00d14d90e3e16cd6"
  },
  "kernelspec": {
   "display_name": "Python 3.6.8 64-bit",
   "language": "python",
   "name": "python3"
  },
  "language_info": {
   "codemirror_mode": {
    "name": "ipython",
    "version": 3
   },
   "file_extension": ".py",
   "mimetype": "text/x-python",
   "name": "python",
   "nbconvert_exporter": "python",
   "pygments_lexer": "ipython3",
   "version": "3.6.8"
  },
  "orig_nbformat": 4
 },
 "nbformat": 4,
 "nbformat_minor": 2
}
