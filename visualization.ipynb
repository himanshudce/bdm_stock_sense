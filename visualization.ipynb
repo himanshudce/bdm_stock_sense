{
 "cells": [
  {
   "cell_type": "markdown",
   "metadata": {},
   "source": [
    "# Sense Stock Big Data Pipeline"
   ]
  },
  {
   "cell_type": "markdown",
   "metadata": {},
   "source": [
    "# 1. BDM Pipeline Overview\n",
    "\n",
    "\n",
    "<img src=\"docs/BDM_PRO_2.png\"> \n",
    "<!-- <img src=\"DOCS/student_data_analysis.png\", width = 500, height = 400>  -->\n"
   ]
  },
  {
   "cell_type": "code",
   "execution_count": 1,
   "metadata": {},
   "outputs": [],
   "source": [
    "# import libraries\n",
    "import pymongo\n",
    "import pandas as pd\n",
    "import os\n",
    "import json\n",
    "import time\n",
    "# import mplfinance as fplt\n",
    "from datetime import datetime\n",
    "import matplotlib.pyplot as plt\n",
    "\n",
    "from IPython.display import display, HTML\n",
    "import seaborn as sns\n",
    "%matplotlib inline\n",
    "# from ipywidgets import widgets\n",
    "\n",
    "\n",
    "from pyspark.sql import SparkSession\n",
    "import pandas as pd\n",
    "import os \n",
    "import warnings\n",
    "warnings.filterwarnings('ignore')"
   ]
  },
  {
   "cell_type": "code",
   "execution_count": 2,
   "metadata": {},
   "outputs": [],
   "source": [
    "# to connect from VM system\n",
    "mongo_client = pymongo.MongoClient(\"mongodb://localhost:27017/\")"
   ]
  },
  {
   "cell_type": "code",
   "execution_count": 3,
   "metadata": {},
   "outputs": [
    {
     "name": "stderr",
     "output_type": "stream",
     "text": [
      "/home/bdm/.local/lib/python3.6/site-packages/pyspark/context.py:238: FutureWarning: Python 3.6 support is deprecated in Spark 3.2.\n",
      "  FutureWarning\n"
     ]
    }
   ],
   "source": [
    "#path from where we will read files for one hour \n",
    "path = '/home/bdm/data_sources/stock_data_parquet/'\n",
    "appName = \"stock parquet files\"\n",
    "spark = SparkSession.builder.appName(appName).getOrCreate()"
   ]
  },
  {
   "cell_type": "code",
   "execution_count": 4,
   "metadata": {},
   "outputs": [],
   "source": [
    "# define Database\n",
    "tweetdb = mongo_client[\"sense_stock_db\"]['tweet_data']"
   ]
  },
  {
   "cell_type": "code",
   "execution_count": 12,
   "metadata": {},
   "outputs": [],
   "source": [
    "# function to get real-time of India with 5 minute buffer \n",
    "\n",
    "def get_time():\n",
    "    # get todays date according to indian timezone\n",
    "    IN_time = pd.Timestamp.now('Asia/Kolkata')-pd.Timedelta(minutes=5)\n",
    "    # IN_time = pd.Timestamp.now('Asia/Kolkata')-pd.Timedelta(days=5)\n",
    "    # IN_time = IN_time-pd.Timedelta(hours=5)\n",
    "    \n",
    "    date = str(IN_time.date()).replace(\"-\",\"_\")\n",
    "    #date = \"2022_06_03\"\n",
    "\n",
    "    hour = int(IN_time.hour)\n",
    "    #hour = 21\n",
    "\n",
    "    minute = int(IN_time.minute)\n",
    "\n",
    "    return date,hour,minute"
   ]
  },
  {
   "cell_type": "code",
   "execution_count": 7,
   "metadata": {},
   "outputs": [],
   "source": [
    "def display_tweets(date,hour,minute,company=\"RELIENCE\"):\n",
    "    # run query to extract result\n",
    "    myquery = { \"date\": date , \"companies\":company, \"hour\":hour, \"minute\":minute}\n",
    "    mydoc = tweetdb.find(myquery)\n",
    "    for x in mydoc:\n",
    "        print(\"Extracted data\")\n",
    "        df = pd.DataFrame(x['top_N_tweets'])\n",
    "    display(HTML(df.to_html()))"
   ]
  },
  {
   "cell_type": "code",
   "execution_count": 8,
   "metadata": {},
   "outputs": [],
   "source": [
    "def display_stocks(date,hour,minute,company=\"RELIENCE\"):\n",
    "    date_ = os.path.join(path,date)\n",
    "    parquet_name = 'stock_data'+'_'+str(hour)+'_'+str(minute)+'.parquet'\n",
    "    file_name = os.path.join(date_,parquet_name)\n",
    "    print(file_name)\n",
    "    df1 = spark.read.parquet(file_name)\n",
    "    df2 = df1.select('symbol','lastPrice','dayHigh','dayLow','closePrice','open')\n",
    "    pd_df = df2.toPandas()\n",
    "    df_cmp = pd_df[pd_df['symbol']==company]\n",
    "    print(df_cmp)\n",
    "    # display(HTML(df_cmp.to_html()))"
   ]
  },
  {
   "cell_type": "code",
   "execution_count": 9,
   "metadata": {},
   "outputs": [],
   "source": [
    "def get_datetime(df_cmp):\n",
    "    tm = df_cmp.iloc[0]['timestamp']+'_'+df_cmp.iloc[0]['hour']+'_'+df_cmp.iloc[0]['minute']\n",
    "    datetime_object = datetime.strptime(tm, \"%Y_%m_%d_%H_%M\")\n",
    "    return datetime_object"
   ]
  },
  {
   "cell_type": "code",
   "execution_count": null,
   "metadata": {},
   "outputs": [],
   "source": []
  },
  {
   "cell_type": "markdown",
   "metadata": {},
   "source": [
    "### Exploitation Zone\n",
    "\n",
    "**We are displaying/plotting stock as well as tweet data for a company each minute in real time**"
   ]
  },
  {
   "cell_type": "code",
   "execution_count": null,
   "metadata": {},
   "outputs": [],
   "source": [
    "# display top tweets and stocks for entered company each minute\n",
    "stock_combined_df = pd.DataFrame(columns= ['timestamp', 'hour', 'minute', 'symbol', 'lastPrice', 'dayHigh',\n",
    "       'dayLow', 'closePrice', 'open', 'date_time'])\n",
    "tweet_combined_df = pd.DataFrame(columns = ['polarity', 'timestamp', 'sentiment', 'text', 'date_time'])\n",
    "\n",
    "\n",
    "# define company\n",
    "company = \"ZOMATO\""
   ]
  },
  {
   "cell_type": "code",
   "execution_count": 11,
   "metadata": {},
   "outputs": [
    {
     "name": "stdout",
     "output_type": "stream",
     "text": [
      "Top tweets for date - 2022_06_11 hour 18 and minute 49 for company RELIANCE\n"
     ]
    },
    {
     "data": {
      "text/html": [
       "<table border=\"1\" class=\"dataframe\">\n",
       "  <thead>\n",
       "    <tr style=\"text-align: right;\">\n",
       "      <th></th>\n",
       "      <th>timestamp</th>\n",
       "      <th>hour</th>\n",
       "      <th>minute</th>\n",
       "      <th>symbol</th>\n",
       "      <th>lastPrice</th>\n",
       "      <th>dayHigh</th>\n",
       "      <th>dayLow</th>\n",
       "      <th>closePrice</th>\n",
       "      <th>open</th>\n",
       "      <th>date_time</th>\n",
       "    </tr>\n",
       "  </thead>\n",
       "  <tbody>\n",
       "    <tr>\n",
       "      <th>0</th>\n",
       "      <td>2022_06_11</td>\n",
       "      <td>18</td>\n",
       "      <td>49</td>\n",
       "      <td>RELIANCE</td>\n",
       "      <td>2713.9</td>\n",
       "      <td>2789.9</td>\n",
       "      <td>2701.5</td>\n",
       "      <td>2714.25</td>\n",
       "      <td>2771.9</td>\n",
       "      <td>2022-06-11 18:49:00</td>\n",
       "    </tr>\n",
       "  </tbody>\n",
       "</table>"
      ],
      "text/plain": [
       "<IPython.core.display.HTML object>"
      ]
     },
     "metadata": {},
     "output_type": "display_data"
    },
    {
     "data": {
      "text/html": [
       "<table border=\"1\" class=\"dataframe\">\n",
       "  <thead>\n",
       "    <tr style=\"text-align: right;\">\n",
       "      <th></th>\n",
       "      <th>polarity</th>\n",
       "      <th>timestamp</th>\n",
       "      <th>sentiment</th>\n",
       "      <th>text</th>\n",
       "      <th>date_time</th>\n",
       "    </tr>\n",
       "  </thead>\n",
       "  <tbody>\n",
       "    <tr>\n",
       "      <th>0</th>\n",
       "      <td>0.0</td>\n",
       "      <td>2022-06-11 13:19:08.292</td>\n",
       "      <td>Neutral</td>\n",
       "      <td>@rishhikesh @KirenRijiju @Kangana_team0 @livemint @dna please stop Reliance from looting Bigbazaar.\\n#Futureretail https://t.co/eCFpSFGnM1</td>\n",
       "      <td>2022-06-11 18:45:00</td>\n",
       "    </tr>\n",
       "    <tr>\n",
       "      <th>1</th>\n",
       "      <td>0.0</td>\n",
       "      <td>2022-06-11 13:19:17.306</td>\n",
       "      <td>Neutral</td>\n",
       "      <td>@brajeshpathakup @PMOIndia @BJP4India @BJP4UP @CMOfficeUP @Kangana_team0 @livemint @dna please stop Reliance from l… https://t.co/fBAR40UQYX</td>\n",
       "      <td>2022-06-11 18:45:00</td>\n",
       "    </tr>\n",
       "    <tr>\n",
       "      <th>2</th>\n",
       "      <td>0.0</td>\n",
       "      <td>2022-06-11 13:19:54.035</td>\n",
       "      <td>Neutral</td>\n",
       "      <td>RT @MinistrOfAsmara: Hey .@Futurical,\\nTHREAD!\\nHow US adopted #Eritrea's self-reliance policy:\\n\\nThis is #Eritrea's #IsaiasAfwerki speaking a…</td>\n",
       "      <td>2022-06-11 18:45:00</td>\n",
       "    </tr>\n",
       "    <tr>\n",
       "      <th>3</th>\n",
       "      <td>0.0</td>\n",
       "      <td>2022-06-11 13:19:58.649</td>\n",
       "      <td>Neutral</td>\n",
       "      <td>RT @Deepak76597281: @brajeshpathakup @PMOIndia @BJP4India @Kangana_team0 @livemint @dna please stop Reliance from looting Bigbazaar.\\n#Futur…</td>\n",
       "      <td>2022-06-11 18:45:00</td>\n",
       "    </tr>\n",
       "  </tbody>\n",
       "</table>"
      ],
      "text/plain": [
       "<IPython.core.display.HTML object>"
      ]
     },
     "metadata": {},
     "output_type": "display_data"
    },
    {
     "ename": "KeyboardInterrupt",
     "evalue": "",
     "output_type": "error",
     "traceback": [
      "\u001b[0;31m---------------------------------------------------------------------------\u001b[0m",
      "\u001b[0;31mKeyboardInterrupt\u001b[0m                         Traceback (most recent call last)",
      "\u001b[0;32m<ipython-input-11-87c2e2c21b35>\u001b[0m in \u001b[0;36m<module>\u001b[0;34m\u001b[0m\n\u001b[1;32m     75\u001b[0m \u001b[0;34m\u001b[0m\u001b[0m\n\u001b[1;32m     76\u001b[0m     \u001b[0;31m# sleep for around 1 minute\u001b[0m\u001b[0;34m\u001b[0m\u001b[0;34m\u001b[0m\u001b[0;34m\u001b[0m\u001b[0m\n\u001b[0;32m---> 77\u001b[0;31m     \u001b[0mtime\u001b[0m\u001b[0;34m.\u001b[0m\u001b[0msleep\u001b[0m\u001b[0;34m(\u001b[0m\u001b[0;36m60\u001b[0m\u001b[0;34m)\u001b[0m\u001b[0;34m\u001b[0m\u001b[0;34m\u001b[0m\u001b[0m\n\u001b[0m",
      "\u001b[0;31mKeyboardInterrupt\u001b[0m: "
     ]
    },
    {
     "data": {
      "image/png": "[encoded data removed]",
      "text/plain": [
       "<Figure size 360x216 with 1 Axes>"
      ]
     },
     "metadata": {
      "needs_background": "light"
     },
     "output_type": "display_data"
    },
    {
     "data": {
      "image/png": "[encoded data removed]",
      "text/plain": [
       "<Figure size 360x216 with 1 Axes>"
      ]
     },
     "metadata": {
      "needs_background": "light"
     },
     "output_type": "display_data"
    }
   ],
   "source": [
    "# run loop for displaying data with each minute break\n",
    "while(True):\n",
    "    \n",
    "    # comp = input(\"Enter company name\")\n",
    "    # get time\n",
    "    date,hour,minute = get_time()\n",
    "    print(\"Top tweets for date - {} hour {} and minute {} for company {}\".format(date,hour,minute, company))\n",
    "\n",
    "\n",
    "\n",
    "    # Extract tweets\n",
    "    try:\n",
    "        myquery = { \"date\": date , \"companies\":company, \"hour\":hour, \"minute\":minute}\n",
    "        mydoc = tweetdb.find(myquery)\n",
    "        for x in mydoc:\n",
    "            df = pd.DataFrame(x['top_N_tweets'])\n",
    "            df = df[['polarity','timestamp','sentiment','text']]\n",
    "            _datetw = get_datetime(df_cmp)\n",
    "            df['date_time'] = _datetw\n",
    "            tweet_combined_df = tweet_combined_df.append(df)\n",
    "        # display(HTML(df.to_html()))\n",
    "    except:\n",
    "        pass\n",
    "        \n",
    "    \n",
    "    \n",
    "    # run query to diplay stocks\n",
    "    try:\n",
    "        date_ = os.path.join(path,date)\n",
    "        parquet_name = 'stock_data'+'_'+str(hour)+'_'+str(minute)+'.parquet'\n",
    "        file_name = os.path.join(date_,parquet_name)\n",
    "        df1 = spark.read.parquet(file_name)\n",
    "        df2 = df1.select('timestamp','hour','minute','symbol','lastPrice','dayHigh','dayLow','closePrice','open')\n",
    "        pd_df = df2.toPandas()\n",
    "        df_cmp = pd_df[pd_df['symbol']==company]\n",
    "        _datetime = get_datetime(df_cmp)\n",
    "        df_cmp['date_time'] = _datetime\n",
    "        stock_combined_df = stock_combined_df.append(df_cmp)\n",
    "    except:\n",
    "        pass\n",
    "\n",
    "\n",
    "\n",
    "    # diplay combined dataframe\n",
    "    display(HTML(stock_combined_df.to_html()))\n",
    "    display(HTML(tweet_combined_df.to_html()))\n",
    "    \n",
    "\n",
    "    # plot data \n",
    "    try:\n",
    "        stock_combined_df.plot(x= 'date_time', y=\"lastPrice\", kind=\"bar\", figsize=(5, 3),grid=True)\n",
    "    except:\n",
    "        pass    \n",
    "        \n",
    "    try:\n",
    "        tweet_combined_df['polarity'] = tweet_combined_df['polarity'].astype(float)\n",
    "        tweet_combined_df.plot(x= 'timestamp', y=\"polarity\", kind=\"bar\", figsize=(5, 3),grid=True)\n",
    "    except:\n",
    "        pass\n",
    "    \n",
    "    # sleep for around 1 minute\n",
    "    time.sleep(60)"
   ]
  },
  {
   "cell_type": "code",
   "execution_count": null,
   "metadata": {},
   "outputs": [],
   "source": []
  },
  {
   "cell_type": "code",
   "execution_count": null,
   "metadata": {},
   "outputs": [],
   "source": []
  },
  {
   "cell_type": "code",
   "execution_count": null,
   "metadata": {},
   "outputs": [],
   "source": []
  },
  {
   "cell_type": "code",
   "execution_count": null,
   "metadata": {},
   "outputs": [],
   "source": []
  },
  {
   "cell_type": "code",
   "execution_count": null,
   "metadata": {},
   "outputs": [],
   "source": []
  },
  {
   "cell_type": "code",
   "execution_count": null,
   "metadata": {},
   "outputs": [],
   "source": []
  },
  {
   "cell_type": "code",
   "execution_count": null,
   "metadata": {},
   "outputs": [],
   "source": []
  },
  {
   "cell_type": "code",
   "execution_count": null,
   "metadata": {},
   "outputs": [],
   "source": []
  },
  {
   "cell_type": "code",
   "execution_count": null,
   "metadata": {},
   "outputs": [],
   "source": []
  },
  {
   "cell_type": "code",
   "execution_count": null,
   "metadata": {},
   "outputs": [],
   "source": []
  },
  {
   "cell_type": "code",
   "execution_count": null,
   "metadata": {},
   "outputs": [],
   "source": []
  },
  {
   "cell_type": "code",
   "execution_count": null,
   "metadata": {},
   "outputs": [],
   "source": []
  },
  {
   "cell_type": "code",
   "execution_count": null,
   "metadata": {},
   "outputs": [],
   "source": []
  },
  {
   "cell_type": "code",
   "execution_count": null,
   "metadata": {},
   "outputs": [],
   "source": []
  },
  {
   "cell_type": "code",
   "execution_count": null,
   "metadata": {},
   "outputs": [],
   "source": []
  },
  {
   "cell_type": "code",
   "execution_count": null,
   "metadata": {},
   "outputs": [],
   "source": []
  },
  {
   "cell_type": "code",
   "execution_count": null,
   "metadata": {},
   "outputs": [],
   "source": []
  },
  {
   "cell_type": "code",
   "execution_count": null,
   "metadata": {},
   "outputs": [],
   "source": []
  },
  {
   "cell_type": "markdown",
   "metadata": {},
   "source": [
    "# Extra"
   ]
  },
  {
   "cell_type": "code",
   "execution_count": 13,
   "metadata": {},
   "outputs": [],
   "source": [
    "    # except:\n",
    "    #     pass\n",
    "        \n",
    "    \n",
    "    # combine the dataframe\n",
    "    # stock_combined_df = stock_combined_df.append(df_cmp)\n",
    "    # stock_combined_df_indx = stock_combined_df.set_index('date_time')\n",
    "    # stock_combined_df_indx.rename(columns={'open': 'Open','dayHigh': 'High','dayLow': 'Low','closePrice': 'Close'}, inplace=True)\n",
    "    # tweet_combined_df\n",
    "    # fplt.plot(\n",
    "    #         stock_combined_df_indx,\n",
    "    #         type='candle',\n",
    "    #         title='OHLC Plot',\n",
    "    #         ylabel='Price (₹.)',\n",
    "    #     )\n",
    "    \n",
    "    # display(HTML(df_cmp.to_html()))"
   ]
  },
  {
   "cell_type": "code",
   "execution_count": 23,
   "metadata": {},
   "outputs": [],
   "source": [
    "# # display top tweets for entered company each minute\n",
    "# while(True):\n",
    "    \n",
    "#     date,hour,minute = get_time()\n",
    "#     # comp = input(\"Enter company name\")\n",
    "#     comp = \"RELIENCE\"\n",
    "    \n",
    "    \n",
    "#     print(date,hour,minute, comp)\n",
    "\n",
    "#     # run query to diplay tweets\n",
    "#     try:\n",
    "#         display_tweets(date,hour,minute,comp)\n",
    "#     except:\n",
    "#         print(\"No tweets in this minute\")\n",
    "    \n",
    "#     # run query to diplay stocks\n",
    "#     display_stocks(date,hour,minute,comp)\n",
    "    \n",
    "#     # sleep for around 1 minute\n",
    "#     # time.sleep(60)\n",
    "#     break"
   ]
  },
  {
   "cell_type": "code",
   "execution_count": 14,
   "metadata": {},
   "outputs": [],
   "source": [
    "# while(True):\n",
    "#     date,hour,min = get_time()\n",
    "#     date_ = os.path.join(path,date)\n",
    "#     parquet_name = 'stock_data'+'_'+str(hour)+'_'+str(min)+'.parquet'\n",
    "#     file_name = os.path.join(date_,parquet_name)\n",
    "#     print(file_name)\n",
    "#     df1 = spark.read.parquet(file_name)\n",
    "#     df2 = df1.select('symbol','lastPrice','dayHigh','dayLow','closePrice','open')\n",
    "#     # df2.show()\n",
    "#     pd_df = df2.toPandas()\n",
    "#     df_cmp = pd_df[pd_df['symbol']==company]\n",
    "#     display(HTML(df_cmp.to_html()))\n",
    "    \n",
    "    \n",
    "#     break\n",
    "# #/home/bdm/data_sources/stock_data_parquet/2022_06_05/stock_data2022_06_05_21_32.parquet"
   ]
  },
  {
   "cell_type": "code",
   "execution_count": 16,
   "metadata": {},
   "outputs": [],
   "source": [
    "# display(HTML(df.to_html()))"
   ]
  },
  {
   "cell_type": "code",
   "execution_count": 18,
   "metadata": {},
   "outputs": [],
   "source": [
    "# text = widgets.Text(description=\"Enter Company\")\n",
    "# display(text)\n",
    "\n",
    "# # def process_results(sender):\n",
    "# #     comp = text.value\n",
    "# #     myquery = { \"date\": date , \"companies\":comp, \"hour\":hour, \"minute\":minute}\n",
    "# #     mydoc = tweetdb.find(myquery)\n",
    "# #     for x in mydoc:\n",
    "# #         df = pd.DataFrame(x['top_N_tweets'])\n",
    "# #         display(HTML(df.to_html()))\n",
    "\n",
    "\n",
    "# # text.on_submit(process_results)"
   ]
  },
  {
   "cell_type": "code",
   "execution_count": 19,
   "metadata": {},
   "outputs": [],
   "source": [
    "# # get todays date according to indian timezone\n",
    "# # keeping buffer time to give time for processing (2 minutes)\n",
    "# buffer_minutes = 2\n",
    "# IN_time = pd.Timestamp.now('Asia/Kolkata')-pd.Timedelta(minutes=2)\n",
    "\n",
    "# date = str(IN_time.date()).replace(\"-\",\"_\")\n",
    "# date = \"2022_06_03\"\n",
    "\n",
    "# hour = int(IN_time.hour)\n",
    "# hour = 21\n",
    "\n",
    "# minute = int(IN_time.minute)\n",
    "# minute = 56\n",
    "\n",
    "\n",
    "\n",
    "# # run query to extract result\n",
    "# myquery = { \"date\": date , \"companies\":company, \"hour\":hour, \"minute\":minute}\n",
    "# mydoc = tweetdb.find(myquery)\n",
    "# for x in mydoc:\n",
    "#     print(\"Extracted data\")\n",
    "#     df = pd.DataFrame(x['top_N_tweets'])\n",
    "#     display(HTML(df.to_html()))"
   ]
  },
  {
   "cell_type": "code",
   "execution_count": 20,
   "metadata": {},
   "outputs": [],
   "source": [
    "# # get todays date according to indian timezone\n",
    "# # keeping buffer time to give time for processing (2 minutes)\n",
    "# buffer_minutes = 2\n",
    "# IN_time = pd.Timestamp.now('Asia/Kolkata')-pd.Timedelta(minutes=2)\n",
    "\n",
    "# date = str(IN_time.date()).replace(\"-\",\"_\")\n",
    "# date = \"2022_06_03\"\n",
    "\n",
    "# hour = int(IN_time.hour)\n",
    "# hour = 21\n",
    "\n",
    "# minute = int(IN_time.minute)\n",
    "# minute = 56\n",
    "\n",
    "\n",
    "\n",
    "# # run query to extract result\n",
    "# myquery = { \"date\": date , \"companies\":company, \"hour\":hour, \"minute\":minute}\n",
    "# mydoc = tweetdb.find(myquery)\n",
    "# for x in mydoc:\n",
    "#     print(\"Extracted data\")\n",
    "#     df = pd.DataFrame(x['top_N_tweets'])\n",
    "#     display(HTML(df.to_html()))"
   ]
  },
  {
   "cell_type": "code",
   "execution_count": 21,
   "metadata": {},
   "outputs": [],
   "source": [
    "# # # display top tweets for entered company each minute\n",
    "# # stock_combined_df = pd.DataFrame()\n",
    "\n",
    "# # # run query to diplay stocks\n",
    "# # for i in range(10):\n",
    "# #     date,hour,minute = get_time(i)\n",
    "# #     date_ = os.path.join(path,date)\n",
    "# #     parquet_name = 'stock_data'+'_'+str(hour)+'_'+str(minute)+'.parquet'\n",
    "# #     file_name = os.path.join(date_,parquet_name)\n",
    "# #     df1 = spark.read.parquet(file_name)\n",
    "# #     df2 = df1.select('timestamp','hour','minute','symbol','lastPrice','dayHigh','dayLow','closePrice','open')\n",
    "# #     pd_df = df2.toPandas()\n",
    "# #     df_cmp = pd_df[pd_df['symbol']==company]\n",
    "# #     _datetime = get_datetime(df_cmp)\n",
    "# #     df_cmp['date_time'] = _datetime\n",
    "# #     stock_combined_df = stock_combined_df.append(df_cmp)\n",
    "# # stock_combined_df\n",
    "    \n",
    "    \n",
    "# # stock_combined_df = stock_combined_df.iloc[:,4:]\n",
    "# # # convert to long (tidy) form\n",
    "# # dfm = stock_combined_df.melt('date_time', var_name='cols', value_name='vals')\n",
    "# # dfm\n",
    "# # g = sns.relplot(x=\"date_time\", y=\"vals\", hue='cols', data=dfm, kind='line')\n",
    "# # stock_combined_df.plot(x=\"date_time\", y=[\"lastPrice\"], kind=\"line\", figsize=(8, 5),grid=True)\n",
    "# #read all data of one hour\n",
    "# def read_allFiles(FilenamesList,out_hr):\n",
    "#     path = out_hr+'.parquet'\n",
    "#     for f in FilenamesList:\n",
    "#         df1 = spark.read.parquet(f)\n",
    "#         #appending files of one hour\n",
    "#         df1.write.mode('append').parquet(path)\n",
    "# # for i in range(9,17):\n",
    "# #     name = 'stock_data'+'2022_06_06'+'_'+str(i)\n",
    "# #     location_hr = os.path.join(base_location_date,name)\n",
    "# #     out_hr = os.path.join(outputpath,name)\n",
    "# #     FilenamesList = glob(location_hr+'_*.parquet')\n",
    "# #     for f in FilenamesList:\n",
    "# #         df1 = spark.read.parquet(f)\n",
    "# #         df2 = df1.to_Pandas()\n",
    "# #         df2.head()\n",
    "# #         break\n",
    "# #         #appending files of one hour\n",
    "        \n",
    "    \n",
    "# # name = 'stock_data'+date_str+'_'+hour\n",
    "# # location_hr = os.path.join(base_location_date,name)\n",
    "# # out_hr = os.path.join(outputpath,name)\n",
    "\n",
    "# # FilenamesList = glob(location_hr+'_*.parquet')\n"
   ]
  },
  {
   "cell_type": "code",
   "execution_count": 22,
   "metadata": {},
   "outputs": [],
   "source": [
    "# # run query to diplay stocks\n",
    "# for i in range(10):\n",
    "#     date,hour,minute = get_time(i)\n",
    "#     date_ = os.path.join(path,date)\n",
    "#     parquet_name = 'stock_data'+'_'+str(hour)+'_'+str(minute)+'.parquet'\n",
    "#     file_name = os.path.join(date_,parquet_name)\n",
    "#     df1 = spark.read.parquet(file_name)\n",
    "#     df2 = df1.select('timestamp','hour','minute','symbol','lastPrice','dayHigh','dayLow','closePrice','open')\n",
    "#     pd_df = df2.toPandas()\n",
    "#     df_cmp = pd_df[pd_df['symbol']==company]\n",
    "#     _datetime = get_datetime(df_cmp)\n",
    "#     df_cmp['date_time'] = _datetime\n",
    "#     stock_combined_df = stock_combined_df.append(df_cmp)\n",
    "# stock_combined_df"
   ]
  },
  {
   "cell_type": "code",
   "execution_count": null,
   "metadata": {},
   "outputs": [],
   "source": []
  }
 ],
 "metadata": {
  "interpreter": {
   "hash": "31f2aee4e71d21fbe5cf8b01ff0e069b9275f58929596ceb00d14d90e3e16cd6"
  },
  "kernelspec": {
   "display_name": "Python 3.6.8 64-bit",
   "language": "python",
   "name": "python3"
  },
  "language_info": {
   "codemirror_mode": {
    "name": "ipython",
    "version": 3
   },
   "file_extension": ".py",
   "mimetype": "text/x-python",
   "name": "python",
   "nbconvert_exporter": "python",
   "pygments_lexer": "ipython3",
   "version": "3.6.8"
  },
  "orig_nbformat": 4
 },
 "nbformat": 4,
 "nbformat_minor": 2
}
